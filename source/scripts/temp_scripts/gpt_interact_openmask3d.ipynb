{
 "cells": [
  {
   "cell_type": "code",
   "execution_count": 2,
   "metadata": {},
   "outputs": [],
   "source": [
    "import sys\n",
    "sys.path.append('/home/olemke/workspace/code/spot-compose-v2/source')"
   ]
  },
  {
   "cell_type": "code",
   "execution_count": 3,
   "metadata": {},
   "outputs": [
    {
     "name": "stdout",
     "output_type": "stream",
     "text": [
      "Jupyter environment detected. Enabling Open3D WebVisualizer.\n",
      "[Open3D INFO] WebRTC GUI backend enabled.\n",
      "[Open3D INFO] WebRTCWindowSystem: HTTP handshake server disabled.\n"
     ]
    }
   ],
   "source": [
    "import os\n",
    "\n",
    "import numpy as np\n",
    "import pprint\n",
    "import torch\n",
    "\n",
    "import open3d as o3d\n",
    "from utils.recursive_config import Config\n",
    "from utils.docker_interfaces.openmask_interface import get_mask_points, get_scene_dict\n"
   ]
  },
  {
   "cell_type": "code",
   "execution_count": 21,
   "metadata": {},
   "outputs": [],
   "source": [
    "config = Config()\n",
    "\n",
    "INTERMEDIATE_VISUALIZATIONS = True\n",
    "ITEM = \"alarm clock\"\n",
    "MIN_MASK_CONFIDENCE = 0.3\n",
    "MIN_CLIP_SIMILARITY = 0.22"
   ]
  },
  {
   "cell_type": "code",
   "execution_count": 22,
   "metadata": {},
   "outputs": [],
   "source": [
    "def round_floats(obj, decimals=2):\n",
    "    if isinstance(obj, float):\n",
    "        return round(obj, decimals)\n",
    "    elif isinstance(obj, dict):\n",
    "        return {k: round_floats(v, decimals) for k, v in obj.items()}\n",
    "    elif isinstance(obj, list):\n",
    "        return [round_floats(elem, decimals) for elem in obj]\n",
    "    elif isinstance(obj, tuple):\n",
    "        return tuple([round_floats(elem, decimals) for elem in obj])\n",
    "    return obj"
   ]
  },
  {
   "cell_type": "markdown",
   "metadata": {},
   "source": [
    "**Task:**\n",
    "\n",
    "You will be provided with the name of an item (after the keyword **[ITEM]**) that needs to be found within an indoor scene (e.g., **\"[ITEM] water bottle\"**). Your task is to generate a list of large objects or areas (such as tables, chairs, beds, etc.) where one might look for the specified item. Consider locations where the item is commonly placed, stored, or might logically be found.\n",
    "\n",
    "**Guidelines:**\n",
    "\n",
    "- Focus on common indoor locations relevant to the item.\n",
    "- Think about typical use-cases and where the item is usually kept.\n",
    "- Include various rooms or areas if applicable (e.g., kitchen, living room, bedroom).\n",
    "- Ensure that the suggestions are practical and make sense spatially.\n",
    "- Include answers like on top of, underneath, inside of, or around certain objects\n",
    "- Do not repeat objects (unless they have different spatial relations) that are very similar to each other, like shelf, drawer, and cabinet\n",
    "- For now, only focus on an office setting (i.e. only room is office)\n",
    "\n",
    "**Format:**\n",
    "\n",
    "- Output your answer as a Python list of tuple of strings. The first string specifies the object, the second string specifies a spatial relation to the object.\n",
    "- The list should be formatted exactly as shown below, including quotation marks and commas.\n",
    "- The items should be ordered in order of most likely to least likely.\n",
    "- Output at least 3, and no more than 5 suggestions\n",
    "\n",
    "Example format:\n",
    "\n",
    "```python\n",
    "[(\"Location 1\", \"Spatial Relation 1\"), (\"Location 2\", \"Spatial Relation 2\"), (\"Location 3\", \"Spatial Relation 3\"), ...]\n",
    "```\n",
    "\n",
    "**Example:**\n",
    "\n",
    "If the item is **[ITEM] water bottle**, your output could look like:\n",
    "\n",
    "```python\n",
    "[(\"desk\", \"on top of\"), (\"chair\", \"next to\"), (\"cabinet\", \"inside of\"), (\"desk\", \"underneath\")]\n",
    "```\n",
    "\n",
    "**Instructions:**\n",
    "\n",
    "- Do not include any additional text outside the Python list.\n",
    "- Do not explain your reasoning.\n",
    "- Ensure the list is relevant to the specified item."
   ]
  },
  {
   "cell_type": "code",
   "execution_count": 23,
   "metadata": {},
   "outputs": [],
   "source": [
    "answers = [(\"desk\", \"underneath\"), (\"trash bucket\", \"inside of\"), (\"filing cabinet\", \"next to\"), (\"door\", \"near\"), (\"printer station\", \"next to\")]"
   ]
  },
  {
   "cell_type": "code",
   "execution_count": 24,
   "metadata": {},
   "outputs": [
    {
     "name": "stdout",
     "output_type": "stream",
     "text": [
      "{   'scene': {   'not found': ['door', 'printer station'],\n",
      "                 'obj_16': {'centroid': [2.29, 1.15, 0.07], 'confidence': 0.22, 'description': 'trash bucket', 'extents': [0.17, 0.16, 0.17]},\n",
      "                 'obj_28': {'centroid': [0.33, 0.65, 0.01], 'confidence': 0.26, 'description': 'filing cabinet', 'extents': [0.17, 0.18, 0.15]},\n",
      "                 'obj_3': {'centroid': [3.56, 0.43, 0.67], 'confidence': 0.25, 'description': 'filing cabinet', 'extents': [0.31, 0.45, 0.74]},\n",
      "                 'obj_37': {'centroid': [1.19, 1.3, 0.25], 'confidence': 0.24, 'description': 'desk', 'extents': [0.88, 0.62, 0.37]},\n",
      "                 'obj_5': {'centroid': [3.51, 1.11, 0.43], 'confidence': 0.22, 'description': 'filing cabinet', 'extents': [0.12, 0.1, 0.49]},\n",
      "                 'object_11': {'centroid': [2.88, 1.05, 0.34], 'description': 'irrelevant', 'extents': [0.32, 0.32, 0.42]},\n",
      "                 'object_16': {'centroid': [2.29, 1.15, 0.07], 'description': 'irrelevant', 'extents': [0.17, 0.16, 0.17]},\n",
      "                 'object_28': {'centroid': [0.33, 0.65, 0.01], 'description': 'irrelevant', 'extents': [0.17, 0.18, 0.15]},\n",
      "                 'object_3': {'centroid': [3.56, 0.43, 0.67], 'description': 'irrelevant', 'extents': [0.31, 0.45, 0.74]},\n",
      "                 'object_37': {'centroid': [1.19, 1.3, 0.25], 'description': 'irrelevant', 'extents': [0.88, 0.62, 0.37]},\n",
      "                 'object_42': {'centroid': [1.13, 1.73, 0.97], 'description': 'irrelevant', 'extents': [1.13, 0.3, 1.09]},\n",
      "                 'object_5': {'centroid': [3.51, 1.11, 0.43], 'description': 'irrelevant', 'extents': [0.12, 0.1, 0.49]}}}\n"
     ]
    }
   ],
   "source": [
    "pcd_name = config[\"pre_scanned_graphs\"][\"high_res\"]\n",
    "pcd_path = os.path.join(\n",
    "    config.get_subpath(\"aligned_point_clouds\"), pcd_name, \"scene.ply\"\n",
    ")\n",
    "pcd = o3d.io.read_point_cloud(str(pcd_path))\n",
    "pcd_points = np.array(pcd.points)\n",
    "\n",
    "pp = pprint.PrettyPrinter(indent=4, width=200)\n",
    "\n",
    "scene_dict = get_scene_dict(config, vis_block=False, min_mask_confidence=MIN_MASK_CONFIDENCE)\n",
    "items_not_found = []\n",
    "# pp.pprint(scene_dict)\n",
    "for answer in answers:\n",
    "    item, _ = answer\n",
    "    cos_sims, masks, object_ids, mask_scores = get_mask_points(item, config, MIN_MASK_CONFIDENCE, MIN_CLIP_SIMILARITY)\n",
    "    nr_objects = cos_sims.shape[0]\n",
    "    if nr_objects == 0:\n",
    "        items_not_found.append(item)\n",
    "        continue\n",
    "    for idx in range(nr_objects):\n",
    "        object_id = object_ids[idx]\n",
    "        cos_sim = cos_sims[idx]\n",
    "        # if object is already represented with higher confidence, skip\n",
    "        if object_id in scene_dict[\"scene\"] and scene_dict[\"scene\"][object_id][\"confidence\"] > cos_sim:\n",
    "            continue\n",
    "        # else add the entry (compute bbox centroid and extents and add object into dict)\n",
    "        mask = masks[idx].astype(bool)\n",
    "        points = pcd_points[mask]\n",
    "        bbox_min, bbox_max = np.min(points, axis=0), np.max(points, axis=0)\n",
    "        centroid = (bbox_min + bbox_max) / 2\n",
    "        extents = (bbox_max - bbox_min) / 2\n",
    "        current_object_dict = {\n",
    "            \"description\": item,\n",
    "            \"confidence\": cos_sim.item(),\n",
    "            \"centroid\": centroid.tolist(),\n",
    "            \"extents\": extents.tolist(),\n",
    "        }\n",
    "        scene_dict[\"scene\"][f\"obj_{object_id}\"] = current_object_dict\n",
    "\n",
    "scene_dict[\"scene\"][\"not found\"] = items_not_found        \n",
    "pp.pprint(round_floats(scene_dict))"
   ]
  },
  {
   "cell_type": "code",
   "execution_count": null,
   "metadata": {},
   "outputs": [],
   "source": [
    "# Create a visualizer\n",
    "vis = o3d.visualization.Visualizer()\n",
    "vis.create_window()\n",
    "\n",
    "# Draw the point cloud\n",
    "pcd = o3d.io.read_point_cloud(str(pcd_path))\n",
    "vis.add_geometry(pcd)\n",
    "\n",
    "# Assign colors for each object ID\n",
    "object_colors = {obj_id: np.random.rand(3) for obj_id in scene_dict[\"scene\"].keys()}\n",
    "\n",
    "for object_id, obj_data in scene_dict[\"scene\"].items():\n",
    "    # Get the mask and color for the current object\n",
    "    mask_color = object_colors[object_id]\n",
    "    \n",
    "    # Create the bounding box with the object's centroid and extents\n",
    "    bbox_min = np.array(obj_data[\"centroid\"]) - np.array(obj_data[\"extents\"])\n",
    "    bbox_max = np.array(obj_data[\"centroid\"]) + np.array(obj_data[\"extents\"])\n",
    "    \n",
    "    # Create the bounding box geometry\n",
    "    bbox = o3d.geometry.AxisAlignedBoundingBox(bbox_min, bbox_max)\n",
    "    bbox.color = mask_color  # Assign color to bbox\n",
    "    vis.add_geometry(bbox)\n",
    "\n",
    "    # Use a small sphere to represent the label position near the centroid\n",
    "    label_pos = np.array(obj_data[\"centroid\"]) + np.array([0.05, 0.05, 0.05])\n",
    "    label_sphere = o3d.geometry.TriangleMesh.create_sphere(radius=0.01)\n",
    "    label_sphere.translate(label_pos)\n",
    "    label_sphere.paint_uniform_color(mask_color)  # Color same as bounding box\n",
    "    vis.add_geometry(label_sphere)\n",
    "    \n",
    "    # Add text to print out for reference (Open3D doesn’t support direct text in the window)\n",
    "    label_text = f\"{obj_data['description']} ({obj_data['confidence']:.2f})\"\n",
    "    print(f\"Label for object {object_id}: {label_text}\")\n",
    "\n",
    "# Run the visualization\n",
    "vis.run()\n",
    "vis.destroy_window()\n"
   ]
  },
  {
   "cell_type": "code",
   "execution_count": 25,
   "metadata": {},
   "outputs": [],
   "source": [
    "search_areas = {\n",
    "    1: {\n",
    "        \"centroid\": (1.19, 1.3, 0.1),\n",
    "        \"extents\": (0.88, 0.62, 0.1),\n",
    "        \"short description\": (\"desk\", \"underneath\"),\n",
    "        \"reasoning\": \"The trash is often found underneath desks, where waste from daily work is commonly discarded.\"\n",
    "    },\n",
    "    2: {\n",
    "        \"centroid\": (2.29, 1.15, 0.07),\n",
    "        \"extents\": (0.17, 0.16, 0.17),\n",
    "        \"short description\": (\"trash can\", \"inside of\"),\n",
    "        \"reasoning\": \"A trash bucket is a primary container for trash, making it a likely place for discarded items.\"\n",
    "    },\n",
    "    3: {\n",
    "        \"centroid\": (0.33, 0.65, 0.01),\n",
    "        \"extents\": (0.17, 0.18, 0.15),\n",
    "        \"short description\": (\"filing cabinet\", \"next to\"),\n",
    "        \"reasoning\": \"Trash is commonly found near filing cabinets, as people may discard items after organizing or processing documents.\"\n",
    "    }\n",
    "}\n"
   ]
  },
  {
   "cell_type": "code",
   "execution_count": 26,
   "metadata": {},
   "outputs": [
    {
     "name": "stdout",
     "output_type": "stream",
     "text": [
      "Label for search area 1: ('desk', 'underneath')\n",
      "Label for search area 2: ('trash can', 'inside of')\n",
      "Label for search area 3: ('filing cabinet', 'next to')\n"
     ]
    }
   ],
   "source": [
    "# Create a visualizer\n",
    "vis = o3d.visualization.Visualizer()\n",
    "vis.create_window()\n",
    "\n",
    "# Draw the point cloud\n",
    "pcd = o3d.io.read_point_cloud(str(pcd_path))\n",
    "vis.add_geometry(pcd)\n",
    "\n",
    "# Assign colors for each object ID\n",
    "object_colors = {search_area: np.random.rand(3) for search_area in search_areas.keys()}\n",
    "\n",
    "for search_area_id, search_area_data in search_areas.items():\n",
    "    # Get the mask and color for the current object\n",
    "    mask_color = object_colors[search_area_id]\n",
    "    \n",
    "    # Create the bounding box with the object's centroid and extents\n",
    "    bbox_min = np.array(search_area_data[\"centroid\"]) - np.array(search_area_data[\"extents\"])\n",
    "    bbox_max = np.array(search_area_data[\"centroid\"]) + np.array(search_area_data[\"extents\"])\n",
    "    \n",
    "    # Create the bounding box geometry\n",
    "    bbox = o3d.geometry.AxisAlignedBoundingBox(bbox_min, bbox_max)\n",
    "    bbox.color = mask_color  # Assign color to bbox\n",
    "    vis.add_geometry(bbox)\n",
    "\n",
    "    # Use a small sphere to represent the label position near the centroid\n",
    "    label_pos = np.array(search_area_data[\"centroid\"]) + np.array([0.05, 0.05, 0.05])\n",
    "    label_sphere = o3d.geometry.TriangleMesh.create_sphere(radius=0.01)\n",
    "    label_sphere.translate(label_pos)\n",
    "    label_sphere.paint_uniform_color(mask_color)  # Color same as bounding box\n",
    "    vis.add_geometry(label_sphere)\n",
    "    \n",
    "    # Add text to print out for reference (Open3D doesn’t support direct text in the window)\n",
    "    label_text = f\"{search_area_data['short description']}\"\n",
    "    print(f\"Label for search area {search_area_id}: {label_text}\")\n",
    "\n",
    "# Run the visualization\n",
    "vis.run()\n",
    "vis.destroy_window()"
   ]
  },
  {
   "cell_type": "code",
   "execution_count": null,
   "metadata": {},
   "outputs": [],
   "source": []
  }
 ],
 "metadata": {
  "kernelspec": {
   "display_name": "venv",
   "language": "python",
   "name": "python3"
  },
  "language_info": {
   "codemirror_mode": {
    "name": "ipython",
    "version": 3
   },
   "file_extension": ".py",
   "mimetype": "text/x-python",
   "name": "python",
   "nbconvert_exporter": "python",
   "pygments_lexer": "ipython3",
   "version": "3.10.12"
  }
 },
 "nbformat": 4,
 "nbformat_minor": 2
}
