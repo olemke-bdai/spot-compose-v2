{
 "cells": [
  {
   "cell_type": "markdown",
   "metadata": {},
   "source": [
    "# First Prompt"
   ]
  },
  {
   "cell_type": "code",
   "execution_count": 1,
   "metadata": {},
   "outputs": [],
   "source": [
    "import sys\n",
    "sys.path.append('/home/olemke/workspace/code/spot-compose-v2/source')"
   ]
  },
  {
   "cell_type": "code",
   "execution_count": 1,
   "metadata": {},
   "outputs": [
    {
     "name": "stdout",
     "output_type": "stream",
     "text": [
      "Jupyter environment detected. Enabling Open3D WebVisualizer.\n",
      "[Open3D INFO] WebRTC GUI backend enabled.\n",
      "[Open3D INFO] WebRTCWindowSystem: HTTP handshake server disabled.\n"
     ]
    }
   ],
   "source": [
    "import json\n",
    "import os\n",
    "import shutil\n",
    "import zipfile\n",
    "\n",
    "import numpy as np\n",
    "import torch\n",
    "\n",
    "import clip\n",
    "import open3d as o3d\n",
    "import requests\n",
    "from urllib3.exceptions import ReadTimeoutError\n",
    "from utils import recursive_config\n",
    "from utils.docker_interfaces.docker_communication import _get_content\n",
    "from utils.recursive_config import Config\n"
   ]
  },
  {
   "cell_type": "code",
   "execution_count": 14,
   "metadata": {},
   "outputs": [],
   "source": [
    "config = Config()\n",
    "\n",
    "MIN_VOLUME = 0.01\n",
    "MIN_SIDE = 0.01\n",
    "MIN_SCORE = 0.5\n",
    "INTERMEDIATE_VISUALIZATIONS = True"
   ]
  },
  {
   "cell_type": "code",
   "execution_count": 15,
   "metadata": {},
   "outputs": [],
   "source": [
    "pcd_name = config[\"pre_scanned_graphs\"][\"high_res\"]\n",
    "base_path = config.get_subpath(\"openmask_features\")\n",
    "feat_path = os.path.join(base_path, pcd_name, \"clip_features_comp.npy\")\n",
    "mask_path = os.path.join(base_path, pcd_name, \"scene_MASKS_comp.npy\")\n",
    "score_path = os.path.join(base_path, pcd_name, \"scene_SCORES_comp.npy\")\n",
    "class_path = os.path.join(base_path, pcd_name, \"scene_CLASSES_comp.npy\")\n",
    "pcd_path = os.path.join(\n",
    "    config.get_subpath(\"aligned_point_clouds\"), pcd_name, \"scene.ply\"\n",
    ")\n",
    "\n",
    "features = np.load(feat_path)\n",
    "masks = np.load(mask_path)\n",
    "scores = np.load(score_path)\n",
    "classes = np.load(class_path)"
   ]
  },
  {
   "cell_type": "code",
   "execution_count": 16,
   "metadata": {},
   "outputs": [],
   "source": [
    "pass_score_bool = scores > MIN_SCORE\n",
    "masks = masks[pass_score_bool]\n",
    "scores = scores[pass_score_bool]\n",
    "features = features[pass_score_bool]"
   ]
  },
  {
   "cell_type": "code",
   "execution_count": 17,
   "metadata": {},
   "outputs": [],
   "source": [
    "masks = masks.astype(bool)\n",
    "nr_objects = masks.shape[0]\n",
    "pcd = o3d.io.read_point_cloud(str(pcd_path))\n",
    "points = np.asarray(pcd.points)\n",
    "\n",
    "# get the mins and maxes per object\n",
    "maskss = np.repeat(masks[..., np.newaxis], 3, axis=2)\n",
    "pointss = np.repeat(points[np.newaxis, ...], nr_objects, axis=0)\n",
    "masked_pointss = np.ma.array(\n",
    "    pointss, mask=~maskss\n",
    ")  # True means masked, opposite meaning therefore ~\n",
    "bbox_mins = masked_pointss.min(axis=1)\n",
    "bbox_maxs = masked_pointss.max(axis=1)\n",
    "\n",
    "bbox_sides  = bbox_maxs - bbox_mins\n",
    "bbox_above_side_length = np.all(bbox_sides > MIN_SIDE, axis=-1)\n",
    "bbox_volumes = np.prod(bbox_sides, axis=-1)\n",
    "bbox_above_min_volume = bbox_volumes > MIN_VOLUME\n",
    "bbox_mins, bbox_maxs = (\n",
    "    bbox_mins[bbox_above_side_length & bbox_above_min_volume],\n",
    "    bbox_maxs[bbox_above_side_length & bbox_above_min_volume],\n",
    ")\n",
    "nr_bboxes = np.sum(bbox_above_min_volume)\n",
    "\n",
    "if INTERMEDIATE_VISUALIZATIONS:\n",
    "    aabbs = []\n",
    "    for i in range(nr_bboxes):\n",
    "        bbox_min = bbox_mins[i]\n",
    "        bbox_max = bbox_maxs[i]\n",
    "\n",
    "        # Create an axis-aligned bounding box\n",
    "        aabb = o3d.geometry.AxisAlignedBoundingBox(\n",
    "            min_bound=bbox_min, max_bound=bbox_max\n",
    "        )\n",
    "        aabbs.append(aabb)\n",
    "\n",
    "    # Optionally, visualize the bounding box\n",
    "    o3d.visualization.draw_geometries([pcd, *aabbs])"
   ]
  },
  {
   "cell_type": "code",
   "execution_count": null,
   "metadata": {},
   "outputs": [],
   "source": []
  }
 ],
 "metadata": {
  "kernelspec": {
   "display_name": "venv",
   "language": "python",
   "name": "python3"
  },
  "language_info": {
   "codemirror_mode": {
    "name": "ipython",
    "version": 3
   },
   "file_extension": ".py",
   "mimetype": "text/x-python",
   "name": "python",
   "nbconvert_exporter": "python",
   "pygments_lexer": "ipython3",
   "version": "3.10.12"
  }
 },
 "nbformat": 4,
 "nbformat_minor": 2
}
