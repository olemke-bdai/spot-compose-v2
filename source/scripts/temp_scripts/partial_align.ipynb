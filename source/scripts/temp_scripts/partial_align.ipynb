{
 "cells": [
  {
   "cell_type": "code",
   "execution_count": 1,
   "metadata": {},
   "outputs": [
    {
     "name": "stdout",
     "output_type": "stream",
     "text": [
      "Jupyter environment detected. Enabling Open3D WebVisualizer.\n",
      "[Open3D INFO] WebRTC GUI backend enabled.\n",
      "[Open3D INFO] WebRTCWindowSystem: HTTP handshake server disabled.\n"
     ]
    }
   ],
   "source": [
    "from __future__ import annotations\n",
    "\n",
    "import contextlib\n",
    "import copy\n",
    "import json\n",
    "import os\n",
    "import re\n",
    "import sys\n",
    "from collections import OrderedDict\n",
    "\n",
    "import numpy as np\n",
    "\n",
    "import apriltag\n",
    "import cv2\n",
    "import open3d as o3d\n",
    "from scipy.spatial.transform import Rotation\n",
    "from tqdm import tqdm\n",
    "from utils import recursive_config\n",
    "from utils.importer import PointCloud\n",
    "from utils.point_clouds import icp, add_coordinate_system"
   ]
  },
  {
   "cell_type": "code",
   "execution_count": 2,
   "metadata": {},
   "outputs": [],
   "source": [
    "import plotly.io as pio\n",
    "pio.renderers.default = 'notebook'\n",
    "os.environ[\"DISPLAY\"] = \"localhost:11.0\""
   ]
  },
  {
   "cell_type": "code",
   "execution_count": 3,
   "metadata": {},
   "outputs": [],
   "source": [
    "from scripts.point_cloud_scripts.partial_align import *"
   ]
  },
  {
   "cell_type": "code",
   "execution_count": 4,
   "metadata": {},
   "outputs": [],
   "source": [
    "def draw_point_clouds_server(scan, autowalk) -> None:\n",
    "    scan_temp = copy.deepcopy(scan)\n",
    "    autowalk_temp = copy.deepcopy(autowalk)\n",
    "    scan_temp.paint_uniform_color([1, 0.706, 0])\n",
    "    autowalk_temp.paint_uniform_color([0, 0.651, 0.929])\n",
    "    # scan_temp.transform(transformation)\n",
    "    o3d.visualization.draw_plotly([scan_temp, autowalk_temp])"
   ]
  },
  {
   "cell_type": "code",
   "execution_count": 5,
   "metadata": {},
   "outputs": [
    {
     "name": "stdout",
     "output_type": "stream",
     "text": [
      "Checking Detection #0!\n",
      "Checking Detection #1!\n",
      "Checking Detection #2!\n",
      "Checking Detection #3!\n"
     ]
    },
    {
     "name": "stderr",
     "output_type": "stream",
     "text": [
      "/tmp/pip-install-rx83tefd/apriltag_42befebe4008427fa4420ab272511151/core/contrib/apriltag_quad_contour.c:467: warning: count < 8 :(\n"
     ]
    },
    {
     "name": "stdout",
     "output_type": "stream",
     "text": [
      "Checking Detection #4!\n",
      "Checking Detection #5!\n",
      "Checking Detection #6!\n",
      "Checking Detection #7!\n",
      "Checking Detection #8!\n",
      "Checking Detection #9!\n",
      "Checking Detection #10!\n",
      "Checking Detection #11!\n",
      "Checking Detection #12!\n",
      "Checking Detection #13!\n"
     ]
    },
    {
     "name": "stderr",
     "output_type": "stream",
     "text": [
      "/tmp/pip-install-rx83tefd/apriltag_42befebe4008427fa4420ab272511151/core/contrib/apriltag_quad_contour.c:467: warning: count < 8 :(\n",
      "/tmp/pip-install-rx83tefd/apriltag_42befebe4008427fa4420ab272511151/core/contrib/apriltag_quad_contour.c:467: warning: count < 8 :(\n"
     ]
    },
    {
     "name": "stdout",
     "output_type": "stream",
     "text": [
      "Checking Detection #14!\n",
      "Checking Detection #15!\n",
      "Checking Detection #16!\n",
      "Checking Detection #17!\n",
      "Checking Detection #18!\n",
      "Checking Detection #19!\n",
      "Checking Detection #20!\n",
      "Checking Detection #21!\n",
      "Checking Detection #22!\n",
      "Checking Detection #23!\n",
      "Checking Detection #24!\n",
      "Checking Detection #25!\n",
      "Checking Detection #26!\n",
      "Checking Detection #27!\n",
      "Checking Detection #28!\n",
      "Checking Detection #29!\n",
      "Checking Detection #30!\n",
      "Checking Detection #31!\n",
      "Checking Detection #32!\n",
      "Checking Detection #33!\n",
      "Checking Detection #34!\n",
      "Checking Detection #35!\n",
      "Checking Detection #36!\n",
      "Checking Detection #37!\n",
      "Checking Detection #38!\n",
      "Checking Detection #39!\n",
      "Checking Detection #40!\n",
      "Checking Detection #41!\n",
      "Checking Detection #42!\n",
      "Checking Detection #43!\n",
      "Checking Detection #44!\n",
      "Checking Detection #45!\n",
      "Checking Detection #46!\n",
      "Checking Detection #47!\n",
      "Checking Detection #48!\n",
      "Checking Detection #49!\n"
     ]
    },
    {
     "name": "stderr",
     "output_type": "stream",
     "text": [
      "/tmp/pip-install-rx83tefd/apriltag_42befebe4008427fa4420ab272511151/core/contrib/apriltag_quad_contour.c:467: warning: count < 8 :(\n"
     ]
    },
    {
     "name": "stdout",
     "output_type": "stream",
     "text": [
      "Checking Detection #50!\n",
      "Checking Detection #51!\n",
      "Checking Detection #52!\n",
      "Checking Detection #53!\n",
      "Checking Detection #54!\n",
      "Checking Detection #55!\n"
     ]
    },
    {
     "name": "stderr",
     "output_type": "stream",
     "text": [
      "/tmp/pip-install-rx83tefd/apriltag_42befebe4008427fa4420ab272511151/core/contrib/apriltag_quad_contour.c:467: warning: count < 8 :(\n"
     ]
    },
    {
     "name": "stdout",
     "output_type": "stream",
     "text": [
      "Checking Detection #56!\n",
      "Checking Detection #57!\n",
      "Checking Detection #58!\n",
      "Checking Detection #59!\n",
      "Checking Detection #60!\n",
      "Checking Detection #61!\n",
      "Checking Detection #62!\n",
      "Checking Detection #63!\n",
      "Checking Detection #64!\n",
      "Checking Detection #65!\n",
      "Checking Detection #66!\n"
     ]
    },
    {
     "name": "stderr",
     "output_type": "stream",
     "text": [
      "/tmp/pip-install-rx83tefd/apriltag_42befebe4008427fa4420ab272511151/core/contrib/apriltag_quad_contour.c:467: warning: count < 8 :(\n",
      "/tmp/pip-install-rx83tefd/apriltag_42befebe4008427fa4420ab272511151/core/contrib/apriltag_quad_contour.c:467: warning: count < 8 :(\n"
     ]
    },
    {
     "name": "stdout",
     "output_type": "stream",
     "text": [
      "Checking Detection #67!\n",
      "Checking Detection #68!\n",
      "Checking Detection #69!\n",
      "Checking Detection #70!\n",
      "Checking Detection #71!\n",
      "Checking Detection #72!\n",
      "Checking Detection #73!\n",
      "Checking Detection #74!\n",
      "Checking Detection #75!\n",
      "Checking Detection #76!\n"
     ]
    },
    {
     "name": "stderr",
     "output_type": "stream",
     "text": [
      "/tmp/pip-install-rx83tefd/apriltag_42befebe4008427fa4420ab272511151/core/contrib/apriltag_quad_contour.c:467: warning: count < 8 :(\n",
      "/tmp/pip-install-rx83tefd/apriltag_42befebe4008427fa4420ab272511151/core/contrib/apriltag_quad_contour.c:467: warning: count < 8 :(\n",
      "/tmp/pip-install-rx83tefd/apriltag_42befebe4008427fa4420ab272511151/core/contrib/apriltag_quad_contour.c:467: warning: count < 8 :(\n"
     ]
    },
    {
     "name": "stdout",
     "output_type": "stream",
     "text": [
      "Checking Detection #77!\n",
      "Checking Detection #78!\n",
      "Checking Detection #79!\n",
      "Checking Detection #80!\n",
      "Checking Detection #81!\n",
      "Checking Detection #82!\n",
      "Checking Detection #83!\n",
      "Checking Detection #84!\n"
     ]
    },
    {
     "name": "stderr",
     "output_type": "stream",
     "text": [
      "/tmp/pip-install-rx83tefd/apriltag_42befebe4008427fa4420ab272511151/core/contrib/apriltag_quad_contour.c:467: warning: count < 8 :(\n"
     ]
    },
    {
     "name": "stdout",
     "output_type": "stream",
     "text": [
      "Checking Detection #85!\n",
      "Checking Detection #86!\n",
      "Checking Detection #87!\n",
      "Checking Detection #88!\n",
      "Checking Detection #89!\n",
      "Checking Detection #90!\n",
      "Checking Detection #91!\n",
      "Checking Detection #92!\n",
      "Checking Detection #93!\n",
      "Checking Detection #94!\n",
      "Checking Detection #95!\n",
      "Checking Detection #96!\n",
      "Checking Detection #97!\n",
      "Checking Detection #98!\n",
      "Checking Detection #99!\n",
      "Checking Detection #100!\n",
      "Checking Detection #101!\n",
      "Checking Detection #102!\n",
      "Checking Detection #103!\n",
      "Checking Detection #104!\n",
      "Checking Detection #105!\n",
      "Checking Detection #106!\n",
      "Checking Detection #107!\n",
      "Checking Detection #108!\n",
      "Checking Detection #109!\n",
      "Checking Detection #110!\n",
      "Checking Detection #111!\n"
     ]
    },
    {
     "name": "stderr",
     "output_type": "stream",
     "text": [
      "/tmp/pip-install-rx83tefd/apriltag_42befebe4008427fa4420ab272511151/core/contrib/apriltag_quad_contour.c:467: warning: count < 8 :(\n"
     ]
    },
    {
     "name": "stdout",
     "output_type": "stream",
     "text": [
      "Checking Detection #112!\n",
      "Checking Detection #113!\n",
      "Checking Detection #114!\n",
      "Checking Detection #115!\n",
      "Checking Detection #116!\n",
      "Checking Detection #117!\n",
      "Checking Detection #118!\n",
      "Checking Detection #119!\n",
      "Checking Detection #120!\n",
      "Checking Detection #121!\n",
      "Checking Detection #122!\n",
      "Checking Detection #123!\n",
      "Checking Detection #124!\n"
     ]
    },
    {
     "name": "stderr",
     "output_type": "stream",
     "text": [
      "/tmp/pip-install-rx83tefd/apriltag_42befebe4008427fa4420ab272511151/core/contrib/apriltag_quad_contour.c:467: warning: count < 8 :(\n"
     ]
    },
    {
     "name": "stdout",
     "output_type": "stream",
     "text": [
      "Checking Detection #125!\n",
      "Checking Detection #126!\n",
      "Checking Detection #127!\n",
      "Checking Detection #128!\n",
      "Checking Detection #129!\n",
      "Checking Detection #130!\n",
      "Checking Detection #131!\n",
      "Checking Detection #132!\n",
      "Checking Detection #133!\n",
      "Checking Detection #134!\n",
      "Checking Detection #135!\n",
      "Checking Detection #136!\n",
      "Checking Detection #137!\n",
      "Checking Detection #138!\n",
      "Checking Detection #139!\n",
      "Checking Detection #140!\n",
      "Checking Detection #141!\n",
      "Checking Detection #142!\n",
      "Checking Detection #143!\n",
      "Checking Detection #144!\n",
      "Checking Detection #145!\n",
      "Checking Detection #146!\n",
      "Checking Detection #147!\n",
      "Checking Detection #148!\n",
      "Checking Detection #149!\n"
     ]
    },
    {
     "name": "stderr",
     "output_type": "stream",
     "text": [
      "/tmp/pip-install-rx83tefd/apriltag_42befebe4008427fa4420ab272511151/core/contrib/apriltag_quad_contour.c:467: warning: count < 8 :(\n"
     ]
    },
    {
     "name": "stdout",
     "output_type": "stream",
     "text": [
      "Checking Detection #150!\n",
      "Checking Detection #151!\n",
      "Checking Detection #152!\n",
      "Checking Detection #153!\n",
      "Checking Detection #154!\n",
      "Checking Detection #155!\n",
      "Checking Detection #156!\n",
      "Checking Detection #157!\n",
      "Checking Detection #158!\n",
      "Checking Detection #159!\n",
      "Checking Detection #160!\n",
      "Checking Detection #161!\n",
      "Checking Detection #162!\n",
      "Checking Detection #163!\n",
      "Checking Detection #164!\n",
      "Checking Detection #165!\n",
      "Checking Detection #166!\n"
     ]
    },
    {
     "name": "stderr",
     "output_type": "stream",
     "text": [
      "/tmp/pip-install-rx83tefd/apriltag_42befebe4008427fa4420ab272511151/core/contrib/apriltag_quad_contour.c:467: warning: count < 8 :(\n"
     ]
    },
    {
     "name": "stdout",
     "output_type": "stream",
     "text": [
      "Checking Detection #167!\n",
      "Checking Detection #168!\n",
      "Checking Detection #169!\n",
      "Checking Detection #170!\n",
      "Checking Detection #171!\n",
      "Checking Detection #172!\n",
      "Checking Detection #173!\n",
      "Checking Detection #174!\n",
      "Checking Detection #175!\n",
      "Checking Detection #176!\n",
      "Checking Detection #177!\n",
      "Checking Detection #178!\n",
      "Checking Detection #179!\n",
      "Checking Detection #180!\n",
      "Checking Detection #181!\n",
      "Checking Detection #182!\n",
      "Checking Detection #183!\n",
      "Checking Detection #184!\n",
      "Checking Detection #185!\n",
      "Checking Detection #186!\n",
      "Checking Detection #187!\n",
      "Checking Detection #188!\n",
      "Checking Detection #189!\n",
      "Checking Detection #190!\n",
      "Checking Detection #191!\n",
      "Checking Detection #192!\n",
      "Checking Detection #193!\n",
      "Checking Detection #194!\n",
      "Checking Detection #195!\n",
      "Checking Detection #196!\n",
      "Checking Detection #197!\n",
      "Checking Detection #198!\n",
      "Checking Detection #199!\n",
      "Checking Detection #200!\n",
      "Checking Detection #201!\n",
      "Checking Detection #202!\n",
      "Checking Detection #203!\n",
      "Checking Detection #204!\n",
      "Checking Detection #205!\n",
      "Checking Detection #206!\n",
      "Checking Detection #207!\n",
      "Checking Detection #208!\n",
      "Checking Detection #209!\n",
      "Checking Detection #210!\n",
      "Checking Detection #211!\n",
      "Checking Detection #212!\n",
      "Checking Detection #213!\n",
      "Checking Detection #214!\n",
      "Checking Detection #215!\n",
      "Checking Detection #216!\n",
      "Checking Detection #217!\n",
      "Checking Detection #218!\n",
      "Checking Detection #219!\n",
      "Checking Detection #220!\n",
      "Checking Detection #221!\n",
      "Checking Detection #222!\n",
      "Checking Detection #223!\n",
      "Checking Detection #224!\n",
      "Checking Detection #225!\n",
      "Checking Detection #226!\n",
      "Checking Detection #227!\n",
      "Checking Detection #228!\n",
      "Checking Detection #229!\n",
      "Checking Detection #230!\n",
      "Checking Detection #231!\n",
      "Checking Detection #232!\n",
      "Checking Detection #233!\n",
      "Checking Detection #234!\n",
      "Checking Detection #235!\n",
      "Checking Detection #236!\n",
      "Checking Detection #237!\n",
      "Checking Detection #238!\n",
      "Checking Detection #239!\n",
      "Checking Detection #240!\n"
     ]
    },
    {
     "name": "stderr",
     "output_type": "stream",
     "text": [
      "/tmp/pip-install-rx83tefd/apriltag_42befebe4008427fa4420ab272511151/core/contrib/apriltag_quad_contour.c:467: warning: count < 8 :(\n"
     ]
    },
    {
     "name": "stdout",
     "output_type": "stream",
     "text": [
      "Checking Detection #241!\n",
      "Checking Detection #242!\n",
      "Checking Detection #243!\n",
      "Checking Detection #244!\n",
      "Checking Detection #245!\n",
      "Checking Detection #246!\n",
      "Checking Detection #247!\n",
      "Checking Detection #248!\n",
      "Checking Detection #249!\n",
      "Checking Detection #250!\n",
      "Checking Detection #251!\n",
      "Checking Detection #252!\n",
      "Checking Detection #253!\n",
      "Checking Detection #254!\n",
      "Checking Detection #255!\n",
      "Checking Detection #256!\n",
      "Checking Detection #257!\n"
     ]
    },
    {
     "name": "stderr",
     "output_type": "stream",
     "text": [
      "/tmp/pip-install-rx83tefd/apriltag_42befebe4008427fa4420ab272511151/core/contrib/apriltag_quad_contour.c:467: warning: count < 8 :(\n",
      "/tmp/pip-install-rx83tefd/apriltag_42befebe4008427fa4420ab272511151/core/contrib/apriltag_quad_contour.c:467: warning: count < 8 :(\n"
     ]
    },
    {
     "name": "stdout",
     "output_type": "stream",
     "text": [
      "Checking Detection #258!\n",
      "Checking Detection #259!\n",
      "Checking Detection #260!\n",
      "Checking Detection #261!\n",
      "Checking Detection #262!\n",
      "Checking Detection #263!\n",
      "Checking Detection #264!\n",
      "Checking Detection #265!\n",
      "Checking Detection #266!\n",
      "Checking Detection #267!\n",
      "Checking Detection #268!\n",
      "Checking Detection #269!\n",
      "Checking Detection #270!\n",
      "Checking Detection #271!\n",
      "Checking Detection #272!\n",
      "Checking Detection #273!\n",
      "Checking Detection #274!\n",
      "Checking Detection #275!\n",
      "Checking Detection #276!\n",
      "Checking Detection #277!\n",
      "Checking Detection #278!\n",
      "Checking Detection #279!\n",
      "Checking Detection #280!\n",
      "Checking Detection #281!\n"
     ]
    },
    {
     "name": "stderr",
     "output_type": "stream",
     "text": [
      "/tmp/pip-install-rx83tefd/apriltag_42befebe4008427fa4420ab272511151/core/contrib/apriltag_quad_contour.c:467: warning: count < 8 :(\n",
      "/tmp/pip-install-rx83tefd/apriltag_42befebe4008427fa4420ab272511151/core/contrib/apriltag_quad_contour.c:467: warning: count < 8 :(\n",
      "/tmp/pip-install-rx83tefd/apriltag_42befebe4008427fa4420ab272511151/core/contrib/apriltag_quad_contour.c:467: warning: count < 8 :(\n",
      "/tmp/pip-install-rx83tefd/apriltag_42befebe4008427fa4420ab272511151/core/contrib/apriltag_quad_contour.c:467: warning: count < 8 :(\n"
     ]
    },
    {
     "name": "stdout",
     "output_type": "stream",
     "text": [
      "Checking Detection #282!\n",
      "Checking Detection #283!\n",
      "Checking Detection #284!\n",
      "Checking Detection #285!\n",
      "Checking Detection #286!\n",
      "Checking Detection #287!\n",
      "Checking Detection #288!\n"
     ]
    },
    {
     "name": "stderr",
     "output_type": "stream",
     "text": [
      "/tmp/pip-install-rx83tefd/apriltag_42befebe4008427fa4420ab272511151/core/contrib/apriltag_quad_contour.c:467: warning: count < 8 :(\n",
      "/tmp/pip-install-rx83tefd/apriltag_42befebe4008427fa4420ab272511151/core/contrib/apriltag_quad_contour.c:467: warning: count < 8 :(\n"
     ]
    },
    {
     "name": "stdout",
     "output_type": "stream",
     "text": [
      "Checking Detection #289!\n",
      "Checking Detection #290!\n",
      "Checking Detection #291!\n",
      "Checking Detection #292!\n",
      "Checking Detection #293!\n",
      "Checking Detection #294!\n"
     ]
    },
    {
     "name": "stderr",
     "output_type": "stream",
     "text": [
      "/tmp/pip-install-rx83tefd/apriltag_42befebe4008427fa4420ab272511151/core/contrib/apriltag_quad_contour.c:467: warning: count < 8 :(\n",
      "/tmp/pip-install-rx83tefd/apriltag_42befebe4008427fa4420ab272511151/core/contrib/apriltag_quad_contour.c:467: warning: count < 8 :(\n"
     ]
    },
    {
     "name": "stdout",
     "output_type": "stream",
     "text": [
      "Checking Detection #295!\n",
      "Checking Detection #296!\n",
      "Checking Detection #297!\n",
      "Checking Detection #298!\n",
      "Checking Detection #299!\n",
      "Checking Detection #300!\n",
      "Checking Detection #301!\n",
      "Checking Detection #302!\n",
      "Checking Detection #303!\n",
      "Checking Detection #304!\n",
      "Checking Detection #305!\n",
      "Checking Detection #306!\n",
      "Checking Detection #307!\n",
      "Checking Detection #308!\n",
      "Checking Detection #309!\n",
      "Checking Detection #310!\n",
      "Checking Detection #311!\n",
      "Checking Detection #312!\n",
      "Checking Detection #313!\n",
      "Checking Detection #314!\n",
      "Checking Detection #315!\n",
      "Checking Detection #316!\n",
      "Checking Detection #317!\n",
      "Checking Detection #318!\n",
      "Checking Detection #319!\n",
      "Checking Detection #320!\n",
      "Checking Detection #321!\n",
      "Checking Detection #322!\n"
     ]
    },
    {
     "name": "stderr",
     "output_type": "stream",
     "text": [
      "/tmp/pip-install-rx83tefd/apriltag_42befebe4008427fa4420ab272511151/core/contrib/apriltag_quad_contour.c:467: warning: count < 8 :(\n"
     ]
    },
    {
     "name": "stdout",
     "output_type": "stream",
     "text": [
      "Checking Detection #323!\n",
      "Checking Detection #324!\n",
      "Checking Detection #325!\n",
      "Checking Detection #326!\n",
      "Checking Detection #327!\n",
      "Checking Detection #328!\n",
      "Checking Detection #329!\n",
      "Checking Detection #330!\n",
      "Checking Detection #331!\n",
      "Checking Detection #332!\n",
      "Checking Detection #333!\n",
      "Checking Detection #334!\n",
      "Checking Detection #335!\n",
      "Checking Detection #336!\n",
      "Checking Detection #337!\n",
      "Checking Detection #338!\n",
      "Checking Detection #339!\n",
      "Checking Detection #340!\n",
      "Checking Detection #341!\n",
      "Checking Detection #342!\n",
      "Checking Detection #343!\n",
      "Checking Detection #344!\n",
      "Checking Detection #345!\n",
      "Checking Detection #346!\n",
      "Checking Detection #347!\n",
      "Checking Detection #348!\n",
      "Checking Detection #349!\n",
      "Checking Detection #350!\n",
      "Checking Detection #351!\n",
      "Checking Detection #352!\n",
      "Checking Detection #353!\n",
      "Checking Detection #354!\n",
      "Checking Detection #355!\n",
      "Checking Detection #356!\n",
      "Checking Detection #357!\n",
      "Checking Detection #358!\n",
      "Checking Detection #359!\n",
      "Checking Detection #360!\n",
      "Checking Detection #361!\n",
      "Checking Detection #362!\n",
      "Checking Detection #363!\n",
      "Checking Detection #364!\n",
      "Checking Detection #365!\n",
      "Checking Detection #366!\n"
     ]
    },
    {
     "name": "stderr",
     "output_type": "stream",
     "text": [
      "/tmp/pip-install-rx83tefd/apriltag_42befebe4008427fa4420ab272511151/core/contrib/apriltag_quad_contour.c:467: warning: count < 8 :(\n"
     ]
    },
    {
     "name": "stdout",
     "output_type": "stream",
     "text": [
      "Checking Detection #367!\n",
      "Checking Detection #368!\n",
      "Checking Detection #369!\n",
      "Checking Detection #370!\n",
      "Checking Detection #371!\n",
      "Checking Detection #372!\n",
      "Checking Detection #373!\n",
      "Checking Detection #374!\n",
      "Checking Detection #375!\n",
      "Checking Detection #376!\n",
      "Checking Detection #377!\n"
     ]
    },
    {
     "name": "stderr",
     "output_type": "stream",
     "text": [
      "/tmp/pip-install-rx83tefd/apriltag_42befebe4008427fa4420ab272511151/core/contrib/apriltag_quad_contour.c:467: warning: count < 8 :(\n",
      "/tmp/pip-install-rx83tefd/apriltag_42befebe4008427fa4420ab272511151/core/contrib/apriltag_quad_contour.c:467: warning: count < 8 :(\n",
      "/tmp/pip-install-rx83tefd/apriltag_42befebe4008427fa4420ab272511151/core/contrib/apriltag_quad_contour.c:467: warning: count < 8 :(\n"
     ]
    },
    {
     "name": "stdout",
     "output_type": "stream",
     "text": [
      "Checking Detection #378!\n",
      "Checking Detection #379!\n",
      "Checking Detection #380!\n",
      "Checking Detection #381!\n",
      "Checking Detection #382!\n",
      "Checking Detection #383!\n",
      "Checking Detection #384!\n",
      "Checking Detection #385!\n",
      "Checking Detection #386!\n",
      "Checking Detection #387!\n",
      "Checking Detection #388!\n",
      "Checking Detection #389!\n",
      "Checking Detection #390!\n",
      "Checking Detection #391!\n",
      "Checking Detection #392!\n",
      "Checking Detection #393!\n",
      "Checking Detection #394!\n",
      "Checking Detection #395!\n",
      "Checking Detection #396!\n",
      "Checking Detection #397!\n",
      "Checking Detection #398!\n",
      "Checking Detection #399!\n",
      "Checking Detection #400!\n",
      "Checking Detection #401!\n",
      "Checking Detection #402!\n",
      "Checking Detection #403!\n",
      "Checking Detection #404!\n",
      "Checking Detection #405!\n",
      "Checking Detection #406!\n",
      "Checking Detection #407!\n",
      "Checking Detection #408!\n",
      "Checking Detection #409!\n",
      "Checking Detection #410!\n",
      "Checking Detection #411!\n",
      "Checking Detection #412!\n",
      "Checking Detection #413!\n",
      "Checking Detection #414!\n",
      "Checking Detection #415!\n",
      "Checking Detection #416!\n",
      "Checking Detection #417!\n",
      "Checking Detection #418!\n",
      "Checking Detection #419!\n",
      "Checking Detection #420!\n",
      "Checking Detection #421!\n",
      "Checking Detection #422!\n",
      "Checking Detection #423!\n"
     ]
    },
    {
     "name": "stderr",
     "output_type": "stream",
     "text": [
      "/tmp/pip-install-rx83tefd/apriltag_42befebe4008427fa4420ab272511151/core/contrib/apriltag_quad_contour.c:467: warning: count < 8 :(\n"
     ]
    },
    {
     "name": "stdout",
     "output_type": "stream",
     "text": [
      "Checking Detection #424!\n",
      "Checking Detection #425!\n",
      "Checking Detection #426!\n",
      "Checking Detection #427!\n",
      "Checking Detection #428!\n",
      "Checking Detection #429!\n",
      "Checking Detection #430!\n",
      "Checking Detection #431!\n",
      "Checking Detection #432!\n",
      "Checking Detection #433!\n",
      "Checking Detection #434!\n",
      "Checking Detection #435!\n",
      "Checking Detection #436!\n",
      "Checking Detection #437!\n",
      "Checking Detection #438!\n",
      "Checking Detection #439!\n",
      "Checking Detection #440!\n",
      "Checking Detection #441!\n",
      "Checking Detection #442!\n"
     ]
    },
    {
     "name": "stderr",
     "output_type": "stream",
     "text": [
      "/tmp/pip-install-rx83tefd/apriltag_42befebe4008427fa4420ab272511151/core/contrib/apriltag_quad_contour.c:467: warning: count < 8 :(\n",
      "/tmp/pip-install-rx83tefd/apriltag_42befebe4008427fa4420ab272511151/core/contrib/apriltag_quad_contour.c:467: warning: count < 8 :(\n",
      "/tmp/pip-install-rx83tefd/apriltag_42befebe4008427fa4420ab272511151/core/contrib/apriltag_quad_contour.c:467: warning: count < 8 :(\n"
     ]
    },
    {
     "name": "stdout",
     "output_type": "stream",
     "text": [
      "Checking Detection #443!\n",
      "Checking Detection #444!\n",
      "Checking Detection #445!\n",
      "Checking Detection #446!\n",
      "Checking Detection #447!\n",
      "Checking Detection #448!\n",
      "Checking Detection #449!\n",
      "Checking Detection #450!\n"
     ]
    },
    {
     "name": "stderr",
     "output_type": "stream",
     "text": [
      "/tmp/pip-install-rx83tefd/apriltag_42befebe4008427fa4420ab272511151/core/contrib/apriltag_quad_contour.c:467: warning: count < 8 :(\n"
     ]
    },
    {
     "name": "stdout",
     "output_type": "stream",
     "text": [
      "Checking Detection #451!\n",
      "Checking Detection #452!\n",
      "Checking Detection #453!\n",
      "Checking Detection #454!\n",
      "Checking Detection #455!\n",
      "Checking Detection #456!\n",
      "Checking Detection #457!\n",
      "Checking Detection #458!\n",
      "Checking Detection #459!\n",
      "Checking Detection #460!\n",
      "Checking Detection #461!\n",
      "Checking Detection #462!\n"
     ]
    },
    {
     "name": "stderr",
     "output_type": "stream",
     "text": [
      "/tmp/pip-install-rx83tefd/apriltag_42befebe4008427fa4420ab272511151/core/contrib/apriltag_quad_contour.c:467: warning: count < 8 :(\n"
     ]
    },
    {
     "name": "stdout",
     "output_type": "stream",
     "text": [
      "Checking Detection #463!\n",
      "Checking Detection #464!\n",
      "Checking Detection #465!\n",
      "Checking Detection #466!\n"
     ]
    },
    {
     "name": "stderr",
     "output_type": "stream",
     "text": [
      "/tmp/pip-install-rx83tefd/apriltag_42befebe4008427fa4420ab272511151/core/contrib/apriltag_quad_contour.c:467: warning: count < 8 :(\n",
      "/tmp/pip-install-rx83tefd/apriltag_42befebe4008427fa4420ab272511151/core/contrib/apriltag_quad_contour.c:467: warning: count < 8 :(\n"
     ]
    },
    {
     "name": "stdout",
     "output_type": "stream",
     "text": [
      "Found best detection at #89!\n",
      "best_frame_number=89\n"
     ]
    }
   ],
   "source": [
    "config = recursive_config.Config()\n",
    "directory_path = config.get_subpath(\"prescans\")\n",
    "directory_path = os.path.join(\n",
    "    str(directory_path), config[\"pre_scanned_graphs\"][\"high_res\"]\n",
    ")\n",
    "jpg_json_paths, mesh_path, pcd_path = fetch_paths(directory_path)\n",
    "\n",
    "# take first image of scan_ground\n",
    "tag_id = config[\"pre_scanned_graphs\"][\"base_fiducial_id\"]\n",
    "best_frame_number, best_detection = get_best_detection(jpg_json_paths, tag_id)\n",
    "print(f\"{best_frame_number=}\")\n",
    "json_path = jpg_json_paths[best_frame_number][\"json\"]\n",
    "\n",
    "# calculate 4x4 rot + translation matrix ground_tform_fiducial\n",
    "camera_tform_fiducial = get_camera_tform_fiducial(best_detection, json_path)\n",
    "ground_tform_camera = get_ground_tform_camera(json_path)\n",
    "# corrective matrices are for correctly rotating the coordinate axes to wished\n",
    "# position\n",
    "corrective_matrix_camera = get_corrective_matrix_camera()\n",
    "corrective_matrix_fiducial = get_corrective_matrix_fiducial()\n",
    "ground_tform_fiducial = calculate_ground_tform_fiducial(\n",
    "    camera_tform_fiducial,\n",
    "    ground_tform_camera,\n",
    "    corrective_matrix_camera,\n",
    "    corrective_matrix_fiducial,\n",
    ")\n",
    "ground_tform_fiducial = correct_to_upright(ground_tform_fiducial)\n",
    "fiducial_tform_ground = np.linalg.inv(ground_tform_fiducial)\n",
    "\n",
    "# get point clouds\n",
    "mesh_ground = o3d.io.read_triangle_mesh(mesh_path, True)\n",
    "scan_ground = o3d.io.read_point_cloud(pcd_path)\n",
    "\n",
    "scan_fiducial = copy.deepcopy(scan_ground).transform(fiducial_tform_ground)\n",
    "mesh_fiducial = copy.deepcopy(mesh_ground).transform(fiducial_tform_ground)\n",
    "scan_vis = add_coordinate_system(\n",
    "    scan_fiducial, (0, 255, 0), np.asarray((0, 0, 0)), size=2\n",
    ")"
   ]
  },
  {
   "cell_type": "code",
   "execution_count": 6,
   "metadata": {},
   "outputs": [],
   "source": [
    "o3d.visualization.draw_geometries([scan_vis])"
   ]
  },
  {
   "cell_type": "code",
   "execution_count": null,
   "metadata": {},
   "outputs": [],
   "source": []
  }
 ],
 "metadata": {
  "kernelspec": {
   "display_name": "venv",
   "language": "python",
   "name": "python3"
  },
  "language_info": {
   "codemirror_mode": {
    "name": "ipython",
    "version": 3
   },
   "file_extension": ".py",
   "mimetype": "text/x-python",
   "name": "python",
   "nbconvert_exporter": "python",
   "pygments_lexer": "ipython3",
   "version": "3.10.12"
  }
 },
 "nbformat": 4,
 "nbformat_minor": 2
}
